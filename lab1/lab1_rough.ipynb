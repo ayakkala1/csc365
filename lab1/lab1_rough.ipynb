{
 "cells": [
  {
   "cell_type": "code",
   "execution_count": 1,
   "metadata": {},
   "outputs": [],
   "source": [
    "import pandas as pd\n",
    "\n",
    "df = pd.read_csv(\"students.txt\",header=None, names = [\"StLastName\",\n",
    "                                                     \"StFirstName\",\n",
    "                                                     \"Grade\",\n",
    "                                                     \"Classroom\",\n",
    "                                                     \"Bus\",\n",
    "                                                     \"GPA\",\n",
    "                                                     \"TLastName\",\n",
    "                                                     \"TFirstName\"])"
   ]
  },
  {
   "cell_type": "code",
   "execution_count": 3,
   "metadata": {},
   "outputs": [],
   "source": [
    "list_df = pd.read_csv(\"https://s3-us-west-1.amazonaws.com/csc365-spring2019/list.txt\",\n",
    "           header = None,\n",
    "           names = [\"StLastName\",\n",
    "                    \"StFirstName\",\n",
    "                    \"Grade\",\n",
    "                    \"Classroom\",                    \n",
    "                    \"Bus\",\n",
    "                    \"GPA\"])\n",
    "\n",
    "teachers_df = pd.read_csv(\"https://s3-us-west-1.amazonaws.com/csc365-spring2019/teachers.txt\",\n",
    "           header = None,\n",
    "           names = [\"TLastName\",\n",
    "                    \"TFirstName\",\n",
    "                    \"Classroom\"])\n"
   ]
  },
  {
   "cell_type": "code",
   "execution_count": 12,
   "metadata": {},
   "outputs": [],
   "source": [
    "df = list_df.merge(teachers_df)"
   ]
  },
  {
   "cell_type": "code",
   "execution_count": 61,
   "metadata": {},
   "outputs": [
    {
     "name": "stdout",
     "output_type": "stream",
     "text": [
      "[['FAFARD' ' ROCIO']]\n"
     ]
    }
   ],
   "source": [
    "print(df[df[\"Classroom\"] == 107][[\"TLastName\",\"TFirstName\"]].drop_duplicates().values)"
   ]
  },
  {
   "cell_type": "code",
   "execution_count": 2,
   "metadata": {},
   "outputs": [],
   "source": [
    "def lastname_query(df, lastname, bus = False):\n",
    "    if type(lastname) != str:\n",
    "        print(\"\")\n",
    "        return\n",
    "    if bus:\n",
    "        filt_df = df[df[\"StLastName\"] == lastname][[\"Bus\"]]\n",
    "        for row in filt_df.values:\n",
    "            print(row)\n",
    "    else:    \n",
    "        filt_df = df[df[\"StLastName\"] == lastname][[\"StLastName\",\n",
    "                                                \"Grade\",\n",
    "                                                \"Classroom\",\n",
    "                                                \"TLastName\",\n",
    "                                                \"TFirstName\"]]\n",
    "        for row in filt_df.values:\n",
    "            print(row)\n",
    "    "
   ]
  },
  {
   "cell_type": "code",
   "execution_count": 3,
   "metadata": {},
   "outputs": [],
   "source": [
    "def teacher_query(df, teacher):\n",
    "    if type(teacher) != str:\n",
    "        print(\"\")\n",
    "        return\n",
    "    students = (list(df[df[\"TLastName\"] == teacher]\n",
    "                     [[\"StLastName\",\"StFirstName\"]].values))\n",
    "    for student in students:\n",
    "        print(student[0],student[1])"
   ]
  },
  {
   "cell_type": "code",
   "execution_count": 4,
   "metadata": {},
   "outputs": [],
   "source": [
    "def bus_query(df, bus_route):\n",
    "    try:\n",
    "        bus_route = int(bus_route)\n",
    "    except:\n",
    "        print(\"\")\n",
    "        return\n",
    "    students = (list(df[df[\"Bus\"] == bus_route]\n",
    "                     [[\"StLastName\",\"StFirstName\",\"Grade\"]].values))\n",
    "    for student in students:\n",
    "        print(student[0],student[1],student[2])    "
   ]
  },
  {
   "cell_type": "code",
   "execution_count": 51,
   "metadata": {},
   "outputs": [],
   "source": [
    "def enrollment_query(df):\n",
    "    for i in list(zip(df[\"Classroom\"].value_counts().sort_index().index,\n",
    "                      df[\"Classroom\"].value_counts().sort_index().values)):\n",
    "        print(i[0],i[1])"
   ]
  },
  {
   "cell_type": "code",
   "execution_count": 29,
   "metadata": {},
   "outputs": [],
   "source": [
    "def grade_query(df, grade, find_teach = False):\n",
    "    try:\n",
    "        grade = int(grade)\n",
    "    except:\n",
    "        print(\"\")\n",
    "        return\n",
    "    if find_teach:\n",
    "        teachers = (list(df[df[\"Grade\"] == grade]\n",
    "                         [[\"TLastName\",\"TFirstName\"]].values))\n",
    "        print(teachers)\n",
    "    else:\n",
    "        students = (list(df[df[\"Grade\"] == grade]\n",
    "                         [[\"StLastName\",\"StFirstName\"]].values))\n",
    "        for student in students:\n",
    "            print(student[0],student[1])"
   ]
  },
  {
   "cell_type": "code",
   "execution_count": 6,
   "metadata": {},
   "outputs": [],
   "source": [
    "def avg_query(df, grade):\n",
    "    try:\n",
    "        grade = int(grade)\n",
    "    except:\n",
    "        print(\"\")\n",
    "        return\n",
    "    print(df[df[\"Grade\"] == grade][\"GPA\"].mean())"
   ]
  },
  {
   "cell_type": "code",
   "execution_count": 7,
   "metadata": {},
   "outputs": [],
   "source": [
    "def hi_lo_query(df, grade, lo = False):\n",
    "    try:\n",
    "        grade = int(grade)\n",
    "    except:\n",
    "        print(\"\")\n",
    "        return\n",
    "    if lo:\n",
    "        want_student = df[df[\"Grade\"] == grade][\"GPA\"] .idxmin()\n",
    "    else:\n",
    "        want_student = df[df[\"Grade\"] == grade][\"GPA\"] .idxmax()\n",
    "    return print(df.iloc[want_student][[\"StLastName\",\n",
    "                                \"StFirstName\",\n",
    "                                \"GPA\",\n",
    "                                \"TLastName\",\n",
    "                                \"TFirstName\",\n",
    "                                \"Bus\"]].values)"
   ]
  },
  {
   "cell_type": "code",
   "execution_count": 27,
   "metadata": {},
   "outputs": [
    {
     "name": "stdout",
     "output_type": "stream",
     "text": [
      "[['COOKUS' ' XUAN']\n",
      " ['ELHADDAD' ' SHANTE']\n",
      " ['SWEDLUND' ' SHARRI']\n",
      " ['CIGANEK' ' MANIE']\n",
      " ['COVINGTON' ' TOMAS']\n",
      " ['EARLY' ' TORY']\n",
      " ['LINHART' ' LELA']]\n"
     ]
    }
   ],
   "source": [
    "print(df[df[\"Classroom\"] == 107][[\"StLastName\",\"StFirstName\"]].values)"
   ]
  },
  {
   "cell_type": "code",
   "execution_count": 28,
   "metadata": {},
   "outputs": [],
   "source": [
    "def classroom_query(df, classroom_num, find_teach):\n",
    "    if find_teach:\n",
    "        print(df[df[\"Classroom\"] == 107][[\"TLastName\",\"TFirstName\"]].values)\n",
    "    else:\n",
    "        print(df[df[\"Classroom\"] == 107][[\"StLastName\",\"StFirstName\"]].values)"
   ]
  },
  {
   "cell_type": "code",
   "execution_count": 8,
   "metadata": {},
   "outputs": [],
   "source": [
    "def info_query(df):\n",
    "    for i in range(7):\n",
    "        num_students = len(df[df[\"Grade\"] == i])\n",
    "        print(\"{0}: {1}\".format(i,num_students))"
   ]
  },
  {
   "cell_type": "code",
   "execution_count": null,
   "metadata": {},
   "outputs": [],
   "source": [
    "import pandas as pd\n",
    "\n",
    "def main():\n",
    "    try:\n",
    "        df = pd.read_csv(\"students.txt\",header=None, names = [\"StLastName\",\n",
    "                                                     \"StFirstName\",\n",
    "                                                     \"Grade\",\n",
    "                                                     \"Classroom\",\n",
    "                                                     \"Bus\",\n",
    "                                                     \"GPA\",\n",
    "                                                     \"TLastName\",\n",
    "                                                     \"TFirstName\"])\n",
    "    except:\n",
    "        print(\"File not Found\")\n",
    "        return\n",
    "    print(\"Instruction Prompt: \\n\"\n",
    "           \"Commands: \\n\"\n",
    "           \"- S[tudent]: <lastname> [B[us]] \\n\"\n",
    "           \"- T[eacher]: <lastname> \\n\"\n",
    "           \"- G[rade]: <number> [H[igh]]|L[ow]] \\n\"\n",
    "           \"- A[verage]: <number> \\n\"\n",
    "           \"- I[nfo] \\n\"\n",
    "           \"- Q[uit] \\n\"\n",
    "         \"Note: The text in arguments is optional while the rest is not. \\n\")\n",
    "    command = [[\" \"]]\n",
    "    while command[0][0] != \"Q\":\n",
    "        commands = input(\"Type in one of these commands! \\n \\n\")\n",
    "        print(\"\\n\")\n",
    "        if \":\" in commands:\n",
    "            command = commands.split(\":\")\n",
    "            arguments = command[1].split(\" \")\n",
    "            arguments = [i for i in arguments if i != \"\"]\n",
    "        else:\n",
    "            command = [commands,\" \"]\n",
    "            arguments = []\n",
    "        if command[0][0] == \"S\":\n",
    "            if len(arguments) == 2:\n",
    "                lastname_query(df, arguments[0], True)\n",
    "            else:\n",
    "                lastname_query(df, arguments[0], False)\n",
    "        elif command[0][0] == \"T\":\n",
    "            teacher_query(df, arguments[0])\n",
    "        elif command[0][0] == \"B\":\n",
    "            bus_query(df, arguments[0])\n",
    "        elif command[0][0] == \"G\":\n",
    "            if len(arguments) == 2:\n",
    "                if arguments[1][0] == \"H\":\n",
    "                    hi_lo_query(df, arguments[0], lo = False)\n",
    "                elif arguments[1][0] == \"L\":\n",
    "                    hi_lo_query(df, arguments[0], lo = True)\n",
    "            else:\n",
    "                grade_query(df, arguments[0])\n",
    "        elif command[0][0] == \"A\":\n",
    "            avg_query(df, arguments[0])\n",
    "        elif command[0][0] == \"I\":\n",
    "            info_query(df)\n",
    "        elif command[0][0] == \"Q\":\n",
    "            print(\"Quitting\")   "
   ]
  },
  {
   "cell_type": "code",
   "execution_count": 20,
   "metadata": {},
   "outputs": [
    {
     "name": "stdout",
     "output_type": "stream",
     "text": [
      "Instruction Prompt: \n",
      "Commands: \n",
      "- S[tudent]: <lastname> [B[us]] \n",
      "- T[eacher]: <lastname> \n",
      "- G[rade]: <number> [H[igh]]|L[ow]] \n",
      "- A[verage]: <number> \n",
      "- I[nfo] \n",
      "- Q[uit] \n",
      "Note: The text in arguments is optional while the rest is not. \n",
      "\n",
      "Type in one of these commands! \n",
      " \n",
      "G: 10\n",
      "Type in one of these commands! \n",
      " \n",
      "G: 6\n",
      "SCHOENECKER PHUONG\n",
      "RACANELLO NOEL\n",
      "STERBACK PETER\n",
      "FINCHMAN MATHILDA\n",
      "ZAPPAVIGNA ELLIOTT\n",
      "OBREIN STAN\n",
      "CORONADO DIMPLE\n",
      "SAENPHIMMACHA NUMBERS\n",
      "BOYTER WAN\n",
      "BREVO JANNETTE\n",
      "CLECKLER FLOY\n",
      "KRAKE VALENTIN\n",
      "KEMERER ROSETTA\n",
      "BEAN INGER\n",
      "DEMARTINI DEWAYNE\n",
      "CREMEANS RANDOLPH\n",
      "FEYEREISEN WILFREDO\n",
      "WERST LEON\n",
      "LAMKIN TAMA\n",
      "KREESE CARRIE\n",
      "FRIEDSTROM REED\n",
      "Type in one of these commands! \n",
      " \n",
      "Q\n",
      "Quitting\n"
     ]
    }
   ],
   "source": [
    "main()"
   ]
  }
 ],
 "metadata": {
  "kernelspec": {
   "display_name": "Python 3",
   "language": "python",
   "name": "python3"
  },
  "language_info": {
   "codemirror_mode": {
    "name": "ipython",
    "version": 3
   },
   "file_extension": ".py",
   "mimetype": "text/x-python",
   "name": "python",
   "nbconvert_exporter": "python",
   "pygments_lexer": "ipython3",
   "version": "3.6.6rc1"
  }
 },
 "nbformat": 4,
 "nbformat_minor": 2
}
