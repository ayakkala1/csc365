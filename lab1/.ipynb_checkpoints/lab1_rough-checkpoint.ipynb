{
 "cells": [
  {
   "cell_type": "code",
   "execution_count": 8,
   "metadata": {},
   "outputs": [],
   "source": [
    "import pandas as pd\n",
    "\n",
    "df = pd.read_csv(\"students.txt\",header=None, names = [\"StLastName\",\n",
    "                                                     \"StFirstName\",\n",
    "                                                     \"Grade\",\n",
    "                                                     \"Classroom\",\n",
    "                                                     \"Bus\",\n",
    "                                                     \"GPA\",\n",
    "                                                     \"TLastName\",\n",
    "                                                     \"TFirstName\"])"
   ]
  },
  {
   "cell_type": "code",
   "execution_count": 35,
   "metadata": {},
   "outputs": [],
   "source": [
    "def lastname_query(df, lastname, bus = False):\n",
    "    if bus:\n",
    "        filt_df = df[df[\"StLastName\"] == lastname][[\"Bus\"]]\n",
    "        for row in filt_df.values:\n",
    "            print(row)\n",
    "    else:    \n",
    "        filt_df = df[df[\"StLastName\"] == lastname][[\"StLastName\",\n",
    "                                                \"Grade\",\n",
    "                                                \"Classroom\",\n",
    "                                                \"TLastName\",\n",
    "                                                \"TFirstName\"]]\n",
    "        for row in filt_df.values:\n",
    "            print(row)\n",
    "    "
   ]
  },
  {
   "cell_type": "code",
   "execution_count": 51,
   "metadata": {},
   "outputs": [],
   "source": [
    "def teacher_query(df, teacher):\n",
    "    students = (list(df[df[\"TLastName\"] == teacher]\n",
    "                     [[\"StLastName\",\"StFirstName\"]].values))\n",
    "    for student in students:\n",
    "        print(student[0],student[1])"
   ]
  },
  {
   "cell_type": "code",
   "execution_count": 56,
   "metadata": {},
   "outputs": [],
   "source": [
    "def bus_query(df, bus_route):\n",
    "    students = (list(df[df[\"Bus\"] == bus_route]\n",
    "                     [[\"StLastName\",\"StFirstName\",\"Grade\"]].values))\n",
    "    for student in students:\n",
    "        print(student[0],student[1],student[2])    "
   ]
  },
  {
   "cell_type": "code",
   "execution_count": 62,
   "metadata": {},
   "outputs": [],
   "source": [
    "def grade_query(df, grade):\n",
    "    students = (list(df[df[\"Grade\"] == grade]\n",
    "                     [[\"StLastName\",\"StFirstName\"]].values))\n",
    "    for student in students:\n",
    "        print(student[0],student[1])"
   ]
  },
  {
   "cell_type": "code",
   "execution_count": 64,
   "metadata": {},
   "outputs": [],
   "source": [
    "def avg_query(df, grade):\n",
    "    print(df[df[\"Grade\"] == grade][\"GPA\"].mean())"
   ]
  },
  {
   "cell_type": "code",
   "execution_count": 72,
   "metadata": {},
   "outputs": [],
   "source": [
    "def hi_lo_query(df, grade, lo = False):\n",
    "    if lo:\n",
    "        want_student = df[df[\"Grade\"] == grade][\"GPA\"] .idxmin()\n",
    "    else:\n",
    "        want_student = df[df[\"Grade\"] == grade][\"GPA\"] .idxmax()\n",
    "    return print(df.iloc[want_student][[\"StLastName\",\n",
    "                                \"StFirstName\",\n",
    "                                \"GPA\",\n",
    "                                \"TLastName\",\n",
    "                                \"TFirstName\",\n",
    "                                \"Bus\"]].values)"
   ]
  },
  {
   "cell_type": "code",
   "execution_count": 76,
   "metadata": {},
   "outputs": [],
   "source": [
    "def info_query(df):\n",
    "    for i in range(7):\n",
    "        num_students = len(df[df[\"Grade\"] == i])\n",
    "        print(\"{0}: {1}\".format(i,num_students))"
   ]
  },
  {
   "cell_type": "code",
   "execution_count": 96,
   "metadata": {},
   "outputs": [],
   "source": [
    "def main():\n",
    "    print(\"Instruction Prompt: \\n\"\n",
    "           \"Commands: \\n\"\n",
    "           \"- S[tudent]: <lastname> [B[us]] \\n\"\n",
    "           \"- T[eacher]: <lastname> \\n\"\n",
    "           \"- G[rade]: <number> [H[igh]]|L[ow]] \\n\"\n",
    "           \"- A[verage]: <number> \\n\"\n",
    "           \"- I[nfo] \\n\"\n",
    "           \"- Q[uit] \\n\"\n",
    "         \"Note: The text in arguments is optional while the rest is not. \\n\")\n",
    "    command = \" \"\n",
    "    while command[0] != \"Q\":\n",
    "        commands = input(\"Type in one of these commands! \\n\")\n",
    "        command\n",
    "        if command[0] == \"S\":\n",
    "            \n",
    "        "
   ]
  },
  {
   "cell_type": "code",
   "execution_count": null,
   "metadata": {},
   "outputs": [],
   "source": []
  },
  {
   "cell_type": "code",
   "execution_count": null,
   "metadata": {},
   "outputs": [],
   "source": []
  }
 ],
 "metadata": {
  "kernelspec": {
   "display_name": "Python 3",
   "language": "python",
   "name": "python3"
  },
  "language_info": {
   "codemirror_mode": {
    "name": "ipython",
    "version": 3
   },
   "file_extension": ".py",
   "mimetype": "text/x-python",
   "name": "python",
   "nbconvert_exporter": "python",
   "pygments_lexer": "ipython3",
   "version": "3.6.6rc1"
  }
 },
 "nbformat": 4,
 "nbformat_minor": 2
}
