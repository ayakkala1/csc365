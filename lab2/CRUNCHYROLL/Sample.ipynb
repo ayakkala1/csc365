{
 "cells": [
  {
   "cell_type": "code",
   "execution_count": 1,
   "metadata": {},
   "outputs": [],
   "source": [
    "import pandas as pd\n",
    "import numpy as np\n",
    "\n",
    "def explode(df, lst_cols, fill_value=''):\n",
    "    # make sure `lst_cols` is a list\n",
    "    if lst_cols and not isinstance(lst_cols, list):\n",
    "        lst_cols = [lst_cols]\n",
    "    # all columns except `lst_cols`\n",
    "    idx_cols = df.columns.difference(lst_cols)\n",
    "\n",
    "    # calculate lengths of lists\n",
    "    lens = df[lst_cols[0]].str.len()\n",
    "\n",
    "    if (lens > 0).all():\n",
    "        # ALL lists in cells aren't empty\n",
    "        return pd.DataFrame({\n",
    "            col:np.repeat(df[col].values, lens)\n",
    "            for col in idx_cols\n",
    "        }).assign(**{col:np.concatenate(df[col].values) for col in lst_cols}) \\\n",
    "          .loc[:, df.columns]\n",
    "    else:\n",
    "        # at least one list in cells is empty\n",
    "        return pd.DataFrame({\n",
    "            col:np.repeat(df[col].values, lens)\n",
    "            for col in idx_cols\n",
    "        }).assign(**{col:np.concatenate(df[col].values) for col in lst_cols}) \\\n",
    "          .append(df.loc[lens==0, idx_cols]).fillna(fill_value) \\\n",
    "          .loc[:, df.columns]\n",
    "    \n",
    "def clean_data(df, *argv):\n",
    "    df1 = df.copy()\n",
    "    for series in argv:\n",
    "        df1[series] = df1[series].str.lower()\n",
    "        df1[series] = df1[series].str.replace(\"\\n\",\"\")\n",
    "        df1[series] = df1[series].str.replace(\"\\r\",\"\")\n",
    "        df1[series] = df1[series].str.replace(\"-\",\" \")\n",
    "        df1[series] = df1[series].str.replace(\"[^\\w\\s]\",\"\")\n",
    "        df1[series] = df1[series].str.strip()\n",
    "    df1 = df1.fillna(\"None\")\n",
    "    df1 = df1.replace(\"\", \"missing\")\n",
    "    return df1\n",
    "\n",
    "def top_n(df, n, series):\n",
    "    return df.sort_values(series, ascending = False).iloc[:n]"
   ]
  },
  {
   "cell_type": "code",
   "execution_count": 2,
   "metadata": {},
   "outputs": [
    {
     "name": "stderr",
     "output_type": "stream",
     "text": [
      "/Library/Frameworks/Python.framework/Versions/3.6/lib/python3.6/site-packages/IPython/core/interactiveshell.py:3020: DtypeWarning: Columns (15) have mixed types. Specify dtype option on import or set low_memory=False.\n",
      "  interactivity=interactivity, compiler=compiler, result=result)\n"
     ]
    }
   ],
   "source": [
    "home = pd.read_csv(\"https://raw.githubusercontent.com/ayakkala1/Data301/master/crunchyroll/crunchy_home.csv\")\n",
    "\n",
    "home[\"similar\"] = home[\"similar\"].apply(lambda x: x.split(\"::\"))\n",
    "home[\"tags\"] = home[\"tags\"].apply(lambda x: x.split(\"::\"))\n",
    "home[\"agg_rating\"] = ((home[\"1\"] + home[\"2\"] * 2 + home[\"3\"] * 3 + home[\"4\"] * 4 + home[\"5\"] * 5)/\n",
    "                        home[[\"1\",\"2\",\"3\",\"4\",\"5\"]].sum(axis = 1))\n",
    "\n",
    "home[\"name\"] = home[\"name\"].str.replace(\"-\",\" \").str.lower()\n",
    "\n",
    "reviews = pd.read_csv(\"https://raw.githubusercontent.com/ayakkala1/Data301/master/crunchyroll/crunchy_review.csv\")\n",
    "\n",
    "main = pd.read_csv(\"https://raw.githubusercontent.com/ayakkala1/Data301/master/crunchyroll/crunchy_main.csv\")\n",
    "\n",
    "main[\"similar\"] = main[\"similar\"].apply(lambda x: x.split(\"::\"))\n",
    "main[\"tags\"] = main[\"tags\"].apply(lambda x: x.split(\"::\"))\n",
    "main[\"name\"] = main[\"name\"].str.replace(\"-\",\" \").str.lower()"
   ]
  },
  {
   "cell_type": "code",
   "execution_count": 3,
   "metadata": {},
   "outputs": [],
   "source": [
    "home_s = home.sample(frac = .1)"
   ]
  },
  {
   "cell_type": "code",
   "execution_count": 4,
   "metadata": {},
   "outputs": [],
   "source": [
    "tags = explode(home_s[[\"name\",\"tags\"]],\"tags\")"
   ]
  },
  {
   "cell_type": "code",
   "execution_count": 5,
   "metadata": {},
   "outputs": [],
   "source": [
    "similar = clean_data(explode(home_s[[\"name\",\"similar\"]],\"similar\"),\"similar\")"
   ]
  },
  {
   "cell_type": "code",
   "execution_count": 6,
   "metadata": {},
   "outputs": [],
   "source": [
    "ratings = home_s[[\"name\",\"agg_review\",\"1\",\"2\",\"3\",\"4\",\"5\",\"agg_rating\"]]"
   ]
  },
  {
   "cell_type": "code",
   "execution_count": 7,
   "metadata": {},
   "outputs": [],
   "source": [
    "reviews = reviews.rename(columns = {\"show\":\"name\"})"
   ]
  },
  {
   "cell_type": "code",
   "execution_count": 8,
   "metadata": {},
   "outputs": [],
   "source": [
    "reviews_s = clean_data(reviews[reviews[\"name\"].isin(home[\"name\"])].sample(frac = .05),\n",
    "                       \"datetime\",\n",
    "                       \"review\",\n",
    "                       \"summary\",\n",
    "                       \"useful\")"
   ]
  },
  {
   "cell_type": "code",
   "execution_count": 9,
   "metadata": {},
   "outputs": [],
   "source": [
    "reviews_s = reviews_s[[\"name\",\"datetime\",\"rating\",\"review\",\"summary\"]]"
   ]
  },
  {
   "cell_type": "code",
   "execution_count": 10,
   "metadata": {},
   "outputs": [
    {
     "name": "stderr",
     "output_type": "stream",
     "text": [
      "/Library/Frameworks/Python.framework/Versions/3.6/lib/python3.6/site-packages/ipykernel_launcher.py:1: SettingWithCopyWarning: \n",
      "A value is trying to be set on a copy of a slice from a DataFrame.\n",
      "Try using .loc[row_indexer,col_indexer] = value instead\n",
      "\n",
      "See the caveats in the documentation: http://pandas.pydata.org/pandas-docs/stable/indexing.html#indexing-view-versus-copy\n",
      "  \"\"\"Entry point for launching an IPython kernel.\n"
     ]
    }
   ],
   "source": [
    "ratings[\"name\"] = \"'\" + ratings[\"name\"] + \"'\"\n",
    "tags[\"tags\"] = \"'\" + tags[\"tags\"] + \"'\"\n",
    "tags[\"name\"] = \"'\" + tags[\"name\"] + \"'\"\n",
    "similar[\"similar\"] = \"'\" + similar[\"similar\"] + \"'\"\n",
    "similar[\"name\"] = \"'\" + similar[\"name\"] + \"'\"\n",
    "reviews_s[\"name\"] = \"'\" + reviews_s[\"name\"] + \"'\"\n",
    "reviews_s[\"review\"] = \"'\" + reviews_s[\"review\"] + \"'\"\n",
    "reviews_s[\"summary\"] = \"'\" + reviews_s[\"summary\"] + \"'\""
   ]
  },
  {
   "cell_type": "code",
   "execution_count": 11,
   "metadata": {},
   "outputs": [],
   "source": [
    "tags.to_csv(\"tags.csv\",index = False)\n",
    "similar.to_csv(\"similar.csv\",index = False)\n",
    "ratings.to_csv(\"ratings.csv\",index = False)\n",
    "reviews_s.to_csv(\"reviews.csv\",index = False)"
   ]
  }
 ],
 "metadata": {
  "kernelspec": {
   "display_name": "Python 3",
   "language": "python",
   "name": "python3"
  },
  "language_info": {
   "codemirror_mode": {
    "name": "ipython",
    "version": 3
   },
   "file_extension": ".py",
   "mimetype": "text/x-python",
   "name": "python",
   "nbconvert_exporter": "python",
   "pygments_lexer": "ipython3",
   "version": "3.6.6rc1"
  }
 },
 "nbformat": 4,
 "nbformat_minor": 2
}
